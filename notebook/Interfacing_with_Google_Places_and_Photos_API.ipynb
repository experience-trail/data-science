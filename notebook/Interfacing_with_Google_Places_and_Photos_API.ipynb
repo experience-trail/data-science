{
  "nbformat": 4,
  "nbformat_minor": 0,
  "metadata": {
    "kernelspec": {
      "display_name": "Python 3",
      "language": "python",
      "name": "python3"
    },
    "language_info": {
      "codemirror_mode": {
        "name": "ipython",
        "version": 3
      },
      "file_extension": ".py",
      "mimetype": "text/x-python",
      "name": "python",
      "nbconvert_exporter": "python",
      "pygments_lexer": "ipython3",
      "version": "3.6.8"
    },
    "latex_envs": {
      "LaTeX_envs_menu_present": true,
      "autoclose": true,
      "autocomplete": true,
      "bibliofile": "biblio.bib",
      "cite_by": "apalike",
      "current_citInitial": 1,
      "eqLabelWithNumbers": true,
      "eqNumInitial": 1,
      "hotkeys": {
        "equation": "Ctrl-E",
        "itemize": "Ctrl-I"
      },
      "labels_anchors": false,
      "latex_user_defs": false,
      "report_style_numbering": false,
      "user_envs_cfg": false
    },
    "colab": {
      "name": "Interfacing with Google Places and Photos API.ipynb",
      "version": "0.3.2",
      "provenance": [],
      "collapsed_sections": []
    }
  },
  "cells": [
    {
      "cell_type": "markdown",
      "metadata": {
        "id": "IeVPOhrBr71t",
        "colab_type": "text"
      },
      "source": [
        "# Interfacing with Google Places and Photos API\n",
        "\n",
        "This notebook is used to interface with Google Places and Photos API to fetch location/place and related photos information.\n",
        "\n",
        "This information shall be used to create our Baseline Recommendation System.\n",
        "\n",
        "Dependent **googlemaps** library needs to be installed and also related API Key needs to be obtained.\n"
      ]
    },
    {
      "cell_type": "code",
      "metadata": {
        "id": "FQxKW7qkWnMi",
        "colab_type": "code",
        "outputId": "59306bff-be44-4249-9bcd-be8c5e915159",
        "colab": {
          "base_uri": "https://localhost:8080/",
          "height": 243
        }
      },
      "source": [
        "# Install googlemaps library\n",
        "!pip install googlemaps\n",
        "\n",
        "import googlemaps\n",
        "\n",
        "# Define the Google API Key\n",
        "API_KEY = ''"
      ],
      "execution_count": 1,
      "outputs": [
        {
          "output_type": "stream",
          "text": [
            "Collecting googlemaps\n",
            "  Downloading https://files.pythonhosted.org/packages/5a/3d/13b4230f3c1b8a586cdc8d8179f3c6af771c11247f8de9c166d1ab37f51d/googlemaps-3.0.2.tar.gz\n",
            "Requirement already satisfied: requests<3.0,>=2.11.1 in /usr/local/lib/python3.6/dist-packages (from googlemaps) (2.21.0)\n",
            "Requirement already satisfied: idna<2.9,>=2.5 in /usr/local/lib/python3.6/dist-packages (from requests<3.0,>=2.11.1->googlemaps) (2.8)\n",
            "Requirement already satisfied: certifi>=2017.4.17 in /usr/local/lib/python3.6/dist-packages (from requests<3.0,>=2.11.1->googlemaps) (2019.6.16)\n",
            "Requirement already satisfied: chardet<3.1.0,>=3.0.2 in /usr/local/lib/python3.6/dist-packages (from requests<3.0,>=2.11.1->googlemaps) (3.0.4)\n",
            "Requirement already satisfied: urllib3<1.25,>=1.21.1 in /usr/local/lib/python3.6/dist-packages (from requests<3.0,>=2.11.1->googlemaps) (1.24.3)\n",
            "Building wheels for collected packages: googlemaps\n",
            "  Building wheel for googlemaps (setup.py) ... \u001b[?25l\u001b[?25hdone\n",
            "  Stored in directory: /root/.cache/pip/wheels/3c/3f/25/ce6d7722dba07e5d4a12d27ab38f3d7add65ef43171b02c819\n",
            "Successfully built googlemaps\n",
            "Installing collected packages: googlemaps\n",
            "Successfully installed googlemaps-3.0.2\n"
          ],
          "name": "stdout"
        }
      ]
    },
    {
      "cell_type": "code",
      "metadata": {
        "id": "ykHrjCPcWnOC",
        "colab_type": "code",
        "colab": {}
      },
      "source": [
        "# Initializing client\n",
        "gmaps = googlemaps.Client(key= API_KEY)"
      ],
      "execution_count": 0,
      "outputs": []
    },
    {
      "cell_type": "markdown",
      "metadata": {
        "id": "-AkIVLFVtOrm",
        "colab_type": "text"
      },
      "source": [
        "### Find places by name\n",
        "\n",
        "For generic names this API returns more than one result and for specific name returns exact matching result.\n",
        "\n",
        "This is illustrated with search to **Burger King** which finds 20 places. But search for **Status of Liberty** gives back only one result."
      ]
    },
    {
      "cell_type": "code",
      "metadata": {
        "scrolled": true,
        "id": "38Bx0FfFWnQr",
        "colab_type": "code",
        "colab": {}
      },
      "source": [
        "def find_place(input):\n",
        "    my_fields = ['name','photos', 'place_id', 'types','formatted_address']\n",
        "    place_results = gmaps.places(query=input)\n",
        "    return place_results"
      ],
      "execution_count": 0,
      "outputs": []
    },
    {
      "cell_type": "code",
      "metadata": {
        "id": "1yCun7gKfsTm",
        "colab_type": "code",
        "outputId": "9ac7b698-455a-4ba1-ef3b-60b9c601553f",
        "colab": {
          "base_uri": "https://localhost:8080/",
          "height": 783
        }
      },
      "source": [
        "\n",
        "places = find_place('Burger King')['results']\n",
        "print(f\"Search result count: {len(places)}\")\n",
        "places[0:2]"
      ],
      "execution_count": 4,
      "outputs": [
        {
          "output_type": "stream",
          "text": [
            "Search result count: 20\n"
          ],
          "name": "stdout"
        },
        {
          "output_type": "execute_result",
          "data": {
            "text/plain": [
              "[{'formatted_address': '3801 SE Adams Rd, Bartlesville, OK 74006, USA',\n",
              "  'geometry': {'location': {'lat': 36.7447024, 'lng': -95.93440439999999},\n",
              "   'viewport': {'northeast': {'lat': 36.74618907989272,\n",
              "     'lng': -95.93304737010727},\n",
              "    'southwest': {'lat': 36.74348942010727, 'lng': -95.93574702989271}}},\n",
              "  'icon': 'https://maps.gstatic.com/mapfiles/place_api/icons/restaurant-71.png',\n",
              "  'id': '0382f970459d7e983b1d6e5487961f087b821d74',\n",
              "  'name': 'Burger King',\n",
              "  'opening_hours': {'open_now': True},\n",
              "  'photos': [{'height': 702,\n",
              "    'html_attributions': ['<a href=\"https://maps.google.com/maps/contrib/100372944510816675495/photos\">Burger King</a>'],\n",
              "    'photo_reference': 'CmRaAAAAFXvIZrSTCxrZ6-1yH2EyVh0nhXuPtlhODRU7_22Z8ssgVOVMQ-H6cmDeg0w9QaGsQZevOrfBGJW6h3_7_V2gJPeysAitntqbFOzW-VZm5HHOnyVmvoNm5s8mAsGfFtJ1EhDU9ES5MuJ8UPnAB2P8Hd_WGhRq9R_wVkYomlYcEllqkFeVsLuWiQ',\n",
              "    'width': 870}],\n",
              "  'place_id': 'ChIJ9XhbZEkSt4cRrt1_UY3R0Ns',\n",
              "  'plus_code': {'compound_code': 'P3V8+V6 Bartlesville, Oklahoma',\n",
              "   'global_code': '8686P3V8+V6'},\n",
              "  'price_level': 1,\n",
              "  'rating': 3.8,\n",
              "  'reference': 'ChIJ9XhbZEkSt4cRrt1_UY3R0Ns',\n",
              "  'types': ['restaurant', 'food', 'point_of_interest', 'establishment'],\n",
              "  'user_ratings_total': 399},\n",
              " {'formatted_address': '4187 E 66th St N, Tulsa, OK 74117, USA',\n",
              "  'geometry': {'location': {'lat': 36.2505026, 'lng': -95.9287117},\n",
              "   'viewport': {'northeast': {'lat': 36.25137592989272,\n",
              "     'lng': -95.92736497010728},\n",
              "    'southwest': {'lat': 36.24867627010728, 'lng': -95.93006462989273}}},\n",
              "  'icon': 'https://maps.gstatic.com/mapfiles/place_api/icons/restaurant-71.png',\n",
              "  'id': 'e5ee5eae8e0648447cc016d604949f3ad6ca150c',\n",
              "  'name': 'Burger King',\n",
              "  'opening_hours': {'open_now': False},\n",
              "  'photos': [{'height': 702,\n",
              "    'html_attributions': ['<a href=\"https://maps.google.com/maps/contrib/106501453638477456325/photos\">A Google User</a>'],\n",
              "    'photo_reference': 'CmRaAAAABsdpqZhcXMOtIynIzUZ38VWfSx9-_Zo0hzbe3NUbyy4_Ogxf79hPz8gnI4CRcUfDT_cQQQsKbK03RPIART2LH-TUa__Zkfi0tRQaF4mVCqcWkGPTlbpaSTB0_YZHXsw_EhAIQQw2Y05AiWfkXtYIilVxGhTe7hgSmqUeUArj-dqTUFBGpHyOlw',\n",
              "    'width': 870}],\n",
              "  'place_id': 'ChIJuXriQLLvtocRZScI6XDOUuc',\n",
              "  'plus_code': {'compound_code': '732C+6G Tulsa, Oklahoma',\n",
              "   'global_code': '8686732C+6G'},\n",
              "  'price_level': 1,\n",
              "  'rating': 3.7,\n",
              "  'reference': 'ChIJuXriQLLvtocRZScI6XDOUuc',\n",
              "  'types': ['restaurant', 'food', 'point_of_interest', 'establishment'],\n",
              "  'user_ratings_total': 277}]"
            ]
          },
          "metadata": {
            "tags": []
          },
          "execution_count": 4
        }
      ]
    },
    {
      "cell_type": "code",
      "metadata": {
        "id": "-C-anvFJfp-v",
        "colab_type": "code",
        "outputId": "44726734-823a-4761-8008-2285cab6e98e",
        "colab": {
          "base_uri": "https://localhost:8080/",
          "height": 401
        }
      },
      "source": [
        "places = find_place('Status of Liberty')['results']\n",
        "print(f\"Search result count: {len(places)}\")\n",
        "places"
      ],
      "execution_count": 5,
      "outputs": [
        {
          "output_type": "stream",
          "text": [
            "Search result count: 1\n"
          ],
          "name": "stdout"
        },
        {
          "output_type": "execute_result",
          "data": {
            "text/plain": [
              "[{'formatted_address': 'New York, NY 10004, USA',\n",
              "  'geometry': {'location': {'lat': 40.6892494, 'lng': -74.04450039999999},\n",
              "   'viewport': {'northeast': {'lat': 40.71814749999999,\n",
              "     'lng': -73.99872490000001},\n",
              "    'southwest': {'lat': 40.6796167, 'lng': -74.05975889999998}}},\n",
              "  'icon': 'https://maps.gstatic.com/mapfiles/place_api/icons/generic_business-71.png',\n",
              "  'id': '5a0d7e67078e35af0c456a277df9ffba7c1e4da6',\n",
              "  'name': 'Statue of Liberty National Monument',\n",
              "  'opening_hours': {'open_now': False},\n",
              "  'photos': [{'height': 5312,\n",
              "    'html_attributions': ['<a href=\"https://maps.google.com/maps/contrib/118296288152495182017/photos\">miki nogal</a>'],\n",
              "    'photo_reference': 'CmRaAAAA7APv3rBkcsMr-7LkQsxjBdr36lBf8XU6lq4xF-FTWCRuPMj4l6NsDqTuDm70AerC7wz7ISS3FJiTReectlPKj5fWBOdS271V5m2M7qUha3k9MTD-zm4XCL8LlIhGLzAIEhDDQV3d567KVYW2E-D2ZCoiGhTR2xcqWdnzBcmWxM7KbdwnH73u1Q',\n",
              "    'width': 2988}],\n",
              "  'place_id': 'ChIJPTacEpBQwokRKwIlDXelxkA',\n",
              "  'plus_code': {'compound_code': 'MXQ4+M5 New York',\n",
              "   'global_code': '87G7MXQ4+M5'},\n",
              "  'rating': 4.6,\n",
              "  'reference': 'ChIJPTacEpBQwokRKwIlDXelxkA',\n",
              "  'types': ['park', 'point_of_interest', 'establishment'],\n",
              "  'user_ratings_total': 54601}]"
            ]
          },
          "metadata": {
            "tags": []
          },
          "execution_count": 5
        }
      ]
    },
    {
      "cell_type": "markdown",
      "metadata": {
        "id": "Thy5DYvXuI4A",
        "colab_type": "text"
      },
      "source": [
        "### Get Places Details\n",
        "\n",
        "Result for **googlemaps.places** API includes **place_id**. place_id is an unique identifier for each location/place. With this place_id, we can get detailed information about the location/place using **googlemaps.place** API.\n",
        "\n",
        "Places Details contains key information like address, photos, type and others which can be used for building the Recommendation System."
      ]
    },
    {
      "cell_type": "code",
      "metadata": {
        "id": "j74Ge_tqWnSB",
        "colab_type": "code",
        "outputId": "9ef484c2-6373-4414-91a4-4458ca80ad1b",
        "colab": {
          "base_uri": "https://localhost:8080/",
          "height": 1000
        }
      },
      "source": [
        "gmaps.place('ChIJPTacEpBQwokRKwIlDXelxkA')"
      ],
      "execution_count": 6,
      "outputs": [
        {
          "output_type": "execute_result",
          "data": {
            "text/plain": [
              "{'html_attributions': [],\n",
              " 'result': {'address_components': [{'long_name': 'New York',\n",
              "    'short_name': 'New York',\n",
              "    'types': ['locality', 'political']},\n",
              "   {'long_name': 'Manhattan',\n",
              "    'short_name': 'Manhattan',\n",
              "    'types': ['sublocality_level_1', 'sublocality', 'political']},\n",
              "   {'long_name': 'New York County',\n",
              "    'short_name': 'New York County',\n",
              "    'types': ['administrative_area_level_2', 'political']},\n",
              "   {'long_name': 'New York',\n",
              "    'short_name': 'NY',\n",
              "    'types': ['administrative_area_level_1', 'political']},\n",
              "   {'long_name': 'United States',\n",
              "    'short_name': 'US',\n",
              "    'types': ['country', 'political']},\n",
              "   {'long_name': '10004', 'short_name': '10004', 'types': ['postal_code']}],\n",
              "  'adr_address': '<span class=\"locality\">New York</span>, <span class=\"region\">NY</span> <span class=\"postal-code\">10004</span>, <span class=\"country-name\">USA</span>',\n",
              "  'formatted_address': 'New York, NY 10004, USA',\n",
              "  'formatted_phone_number': '(212) 363-3200',\n",
              "  'geometry': {'location': {'lat': 40.6892494, 'lng': -74.04450039999999},\n",
              "   'viewport': {'northeast': {'lat': 40.71814749999999,\n",
              "     'lng': -73.99872490000001},\n",
              "    'southwest': {'lat': 40.6796167, 'lng': -74.05975889999998}}},\n",
              "  'icon': 'https://maps.gstatic.com/mapfiles/place_api/icons/generic_business-71.png',\n",
              "  'id': '5a0d7e67078e35af0c456a277df9ffba7c1e4da6',\n",
              "  'international_phone_number': '+1 212-363-3200',\n",
              "  'name': 'Statue of Liberty National Monument',\n",
              "  'opening_hours': {'open_now': False,\n",
              "   'periods': [{'close': {'day': 0, 'time': '1600'},\n",
              "     'open': {'day': 0, 'time': '0830'}},\n",
              "    {'close': {'day': 1, 'time': '1600'}, 'open': {'day': 1, 'time': '0830'}},\n",
              "    {'close': {'day': 2, 'time': '1600'}, 'open': {'day': 2, 'time': '0830'}},\n",
              "    {'close': {'day': 3, 'time': '1600'}, 'open': {'day': 3, 'time': '0830'}},\n",
              "    {'close': {'day': 4, 'time': '1600'}, 'open': {'day': 4, 'time': '0830'}},\n",
              "    {'close': {'day': 5, 'time': '1600'}, 'open': {'day': 5, 'time': '0830'}},\n",
              "    {'close': {'day': 6, 'time': '1600'}, 'open': {'day': 6, 'time': '0830'}}],\n",
              "   'weekday_text': ['Monday: 8:30 AM – 4:00 PM',\n",
              "    'Tuesday: 8:30 AM – 4:00 PM',\n",
              "    'Wednesday: 8:30 AM – 4:00 PM',\n",
              "    'Thursday: 8:30 AM – 4:00 PM',\n",
              "    'Friday: 8:30 AM – 4:00 PM',\n",
              "    'Saturday: 8:30 AM – 4:00 PM',\n",
              "    'Sunday: 8:30 AM – 4:00 PM']},\n",
              "  'photos': [{'height': 5312,\n",
              "    'html_attributions': ['<a href=\"https://maps.google.com/maps/contrib/118296288152495182017/photos\">miki nogal</a>'],\n",
              "    'photo_reference': 'CmRaAAAA-r2MC6tSDKxHfYIuasA7QRLvrrR9pcBv46S7VKT9YC0mRy1_POzj2p_gAeMMV-udsdDh7sgAkri3ESf3LOR97eE_H6tpTxjFj5yF4hxk6zfs_G9yFy8pb5H4FsPllu2IEhCJz7N6JG0DuiY_QOVI5XPRGhRXSDhu2s5f9KOeb8BrN8ij2m6htg',\n",
              "    'width': 2988},\n",
              "   {'height': 4608,\n",
              "    'html_attributions': ['<a href=\"https://maps.google.com/maps/contrib/106265366409122628933/photos\">Isabel Castañeda</a>'],\n",
              "    'photo_reference': 'CmRaAAAAMV7D_TqTKZfJ1hjXx9D89ifdPjPn7MmxunUn1Id1N8r3JoDaEeZt3CVB1-_H0oHZG5tWlNfNCheAL6M-pdxbajW6HJ4TVvnmmKjZAbYzza5KRcZn5PSWU_p8kELxtCvMEhBDIpRneg3eeiTT3JWSHiLcGhQAfqehQBwiZalBw3l5-D8wiNsM-w',\n",
              "    'width': 3456},\n",
              "   {'height': 2322,\n",
              "    'html_attributions': ['<a href=\"https://maps.google.com/maps/contrib/112798933856821576176/photos\">Jiasu BECERRA Y PACHECO</a>'],\n",
              "    'photo_reference': 'CmRaAAAAwH3lqtHdmCm2Ki-fdoTlcLAgKqmr_NG-yWjWn4X5LZo2ZXnzwOM9oQ7nuAjgPQdvGBZ4ONZhsKQthrSuvr_r4EsB6QPeo3Zg6KqXAFyk69k_bNmbLeq3X2rSF0rWUBDhEhDly3R-IAt_KEVGF_NCwd04GhSpM62lQl_OEBv5EVtLSrRXfZOB0A',\n",
              "    'width': 4128},\n",
              "   {'height': 5184,\n",
              "    'html_attributions': ['<a href=\"https://maps.google.com/maps/contrib/113176694194000645869/photos\">Mark Donohoe</a>'],\n",
              "    'photo_reference': 'CmRaAAAA5hIrcwUHN7Dp_xEoswbFH8mmfE3M1iiBJNORIx1tSfxKfwsOkZh9dD5HlCbuOzXwLC5nyUfhWTv8CUbpnxqaI5n60diEB533cgOT6xD9C_R_ibLZ6MptM-0JIohXGxwNEhB1Zk0WCr_Qh4hRX-ptiBQdGhSKE8svSlm8caZZ_bI71LPjovrSTw',\n",
              "    'width': 3456},\n",
              "   {'height': 4032,\n",
              "    'html_attributions': ['<a href=\"https://maps.google.com/maps/contrib/114719983703531435092/photos\">Marlene Houldsworth</a>'],\n",
              "    'photo_reference': 'CmRaAAAAnU7GxdnXJ0eskGSrt-3bj_DpizKoXvi8mjQR0O3G7r2aZPHDX0LedI1okSHBiQUI8_Xn6wmSnhj7LVabFbLcaGmSajibzZ49UpypIcltQa2h7kYT4RuLa3DcuaMkJnlPEhDxLJjRGxoJlE4f0uEd4ro-GhTD5WidpscyVAm8CvIh4xlxPVaQmw',\n",
              "    'width': 2268},\n",
              "   {'height': 4032,\n",
              "    'html_attributions': ['<a href=\"https://maps.google.com/maps/contrib/107405260379345079616/photos\">sai kalvakota</a>'],\n",
              "    'photo_reference': 'CmRaAAAA7EBrKx7ObSC-i1a7MkvRk-Ss9hyHCn7ejUOHL4S_rV2pJqOon7nlZjyHGnCwSHEy5e7-DetQyFJ9-oBlh56EoZ7RiPrXIkMiyQlNeJpG2BWVRYVajtxQDvBw60RIC90OEhAcZwhxOnxM4EmpunQCFl0hGhTo_ThX-mwSudprZFfYgIkR1XtBcg',\n",
              "    'width': 1960},\n",
              "   {'height': 4160,\n",
              "    'html_attributions': ['<a href=\"https://maps.google.com/maps/contrib/110542286036073775446/photos\">Jeffrey Peikin</a>'],\n",
              "    'photo_reference': 'CmRaAAAAq2VQmqQtlF4KjzzbH15HlpzZTywntYNP-OhxjZs7glB1-VIhLJS3AjjN7GsTn_fXSvBvWGfMpg8DBx7LMghvW2rydk13ZStCCVjWuMJQjCRvyB3QqMH12m_XoCPu2ZZuEhAq3960wd83nwU2GYTctFy-GhQAFwod3c8Nuogurivr7A8vXAA_uw',\n",
              "    'width': 2340},\n",
              "   {'height': 2160,\n",
              "    'html_attributions': ['<a href=\"https://maps.google.com/maps/contrib/117890961343677572763/photos\">Armando Yanes Licea</a>'],\n",
              "    'photo_reference': 'CmRaAAAA1DnN94wcC_m7jgxm80W_-1lGqSNI28GP7hrVuYqVHvoQyBxtVEF9NROpS2cLkuK9bpAJ1J04NLHDHUn4MJUP8LH4JcH7eQrE3RtQG-iefrNNKuD27Mpf_eGHjPunqiqlEhCfJH9DM-o6XXuqlbIr4s9gGhRej12V-QGig1yKKb21rGJkvE_mAg',\n",
              "    'width': 2160},\n",
              "   {'height': 4032,\n",
              "    'html_attributions': ['<a href=\"https://maps.google.com/maps/contrib/109627772504829321801/photos\">David Tobar</a>'],\n",
              "    'photo_reference': 'CmRaAAAA_QpeyE9AY6voOcV0GatCO1MAScOw9Z8DCKhhHgmJ0gugy_kiVoZczB6j5X_fBe4NzChLOUeP9zyA_sN3wDZMlU8Va3UyxElzJbkIurTvX72_aqep3j7ERNGqKsUhKbjwEhDv9LiIXlpxJM_m14T7gIvsGhQ8eHTsKmXu2fsQA6vwzQB0er_ZBA',\n",
              "    'width': 3024},\n",
              "   {'height': 2304,\n",
              "    'html_attributions': ['<a href=\"https://maps.google.com/maps/contrib/111177214989513874707/photos\">Beny Jackson</a>'],\n",
              "    'photo_reference': 'CmRaAAAAVOOSUO12_HLCSQdrWMg_wvSY9GtsMxRk-Gv_lo0aAdF9CjVuO1sBTOQ9Pnzvzw3NuxYId6tcvtK54JFMOjoywMX19t2Ja9iaYPJxxzA3waDEvgy5nVsBLTdTC4Xt05mVEhALcIs0LPAfz_2I7g4WjNYYGhRtNlJDC_TUHuPA2gnRupc23uJ_nA',\n",
              "    'width': 3456}],\n",
              "  'place_id': 'ChIJPTacEpBQwokRKwIlDXelxkA',\n",
              "  'plus_code': {'compound_code': 'MXQ4+M5 New York, United States',\n",
              "   'global_code': '87G7MXQ4+M5'},\n",
              "  'rating': 4.6,\n",
              "  'reference': 'ChIJPTacEpBQwokRKwIlDXelxkA',\n",
              "  'scope': 'GOOGLE',\n",
              "  'types': ['park', 'point_of_interest', 'establishment'],\n",
              "  'url': 'https://maps.google.com/?cid=4667599994556318251',\n",
              "  'user_ratings_total': 54426,\n",
              "  'utc_offset': -240,\n",
              "  'vicinity': 'New York',\n",
              "  'website': 'https://www.nps.gov/stli/index.htm'},\n",
              " 'status': 'OK'}"
            ]
          },
          "metadata": {
            "tags": []
          },
          "execution_count": 6
        }
      ]
    },
    {
      "cell_type": "markdown",
      "metadata": {
        "id": "V_5Gs0oWvIxJ",
        "colab_type": "text"
      },
      "source": [
        "### Get Place Photos\n",
        "\n",
        "Each place details has reference to multiple photos which can be used for fetching actual image and with this we can train our baseline recommendation system.\n",
        "\n",
        "Using photo reference we can download the actual images or can specify the width and height based on our needs.\n"
      ]
    },
    {
      "cell_type": "code",
      "metadata": {
        "id": "heAYH8M-cN3L",
        "colab_type": "code",
        "colab": {}
      },
      "source": [
        "f = open('filename_1.jpg', 'wb')\n",
        "for chunk in gmaps.places_photo(photo_reference='CmRaAAAA6x1lZ1fpmJt1nQL5MEkkKmLxsQBjGTzh9t_v3KydhgjT9PA8DxLxYxNy9OexrFIGFVuA2Zkks--S_5bIkDDEbaLL8sgF38IouNhOR77GS9nTxRCLUBrMwS1oCBFZQFbzEhA6chXDghK_cxio-98HMcnRGhRLih5KGNhBxTlh5pty47if2E1Dew', max_width=2988, max_height=5312):\n",
        "    if chunk:\n",
        "        f.write(chunk)\n",
        "f.close()"
      ],
      "execution_count": 0,
      "outputs": []
    },
    {
      "cell_type": "code",
      "metadata": {
        "id": "vJUP4uTtb3Ga",
        "colab_type": "code",
        "colab": {}
      },
      "source": [
        "f = open('filename_2.jpg', 'wb')\n",
        "for chunk in gmaps.places_photo(photo_reference='CmRaAAAA6x1lZ1fpmJt1nQL5MEkkKmLxsQBjGTzh9t_v3KydhgjT9PA8DxLxYxNy9OexrFIGFVuA2Zkks--S_5bIkDDEbaLL8sgF38IouNhOR77GS9nTxRCLUBrMwS1oCBFZQFbzEhA6chXDghK_cxio-98HMcnRGhRLih5KGNhBxTlh5pty47if2E1Dew', max_width=400, max_height=400):\n",
        "    if chunk:\n",
        "        f.write(chunk)\n",
        "f.close()"
      ],
      "execution_count": 0,
      "outputs": []
    }
  ]
}